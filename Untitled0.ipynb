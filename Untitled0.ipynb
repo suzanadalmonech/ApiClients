{
  "nbformat": 4,
  "nbformat_minor": 0,
  "metadata": {
    "colab": {
      "provenance": [],
      "authorship_tag": "ABX9TyMWm552bixEFkmJhrbJguOH",
      "include_colab_link": true
    },
    "kernelspec": {
      "name": "python3",
      "display_name": "Python 3"
    },
    "language_info": {
      "name": "python"
    }
  },
  "cells": [
    {
      "cell_type": "markdown",
      "metadata": {
        "id": "view-in-github",
        "colab_type": "text"
      },
      "source": [
        "<a href=\"https://colab.research.google.com/github/suzanadalmonech/ApiClients/blob/main/Untitled0.ipynb\" target=\"_parent\"><img src=\"https://colab.research.google.com/assets/colab-badge.svg\" alt=\"Open In Colab\"/></a>"
      ]
    },
    {
      "cell_type": "code",
      "execution_count": 3,
      "metadata": {
        "colab": {
          "base_uri": "https://localhost:8080/"
        },
        "id": "JAqze3yopkiM",
        "outputId": "5f5b9752-35e0-4fed-bc97-514e38d09303"
      },
      "outputs": [
        {
          "output_type": "stream",
          "name": "stdout",
          "text": [
            "=== Cadastro de Notas ===\n",
            "Digite a nota do aluno (ou -1 para encerrar): 10\n",
            "Digite a nota do aluno (ou -1 para encerrar): 20\n",
            "Digite uma nota válida (entre 0 e 10).\n",
            "Digite a nota do aluno (ou -1 para encerrar): 20\n",
            "Digite uma nota válida (entre 0 e 10).\n",
            "Digite a nota do aluno (ou -1 para encerrar): 8\n",
            "Digite a nota do aluno (ou -1 para encerrar): 7\n",
            "Digite a nota do aluno (ou -1 para encerrar): 5\n",
            "Digite a nota do aluno (ou -1 para encerrar): 8\n",
            "Digite a nota do aluno (ou -1 para encerrar): 9\n",
            "Digite a nota do aluno (ou -1 para encerrar): -1\n",
            "\n",
            "=== RELATÓRIO FINAL ===\n",
            "Notas inseridas: [10.0, 8.0, 7.0, 5.0, 8.0, 9.0]\n",
            "Média final: 7.83\n",
            "Situação: Aprovado!\n"
          ]
        }
      ],
      "source": [
        "# Sistema de gestão de notas de alunos\n",
        "# Função para cadastrar notas\n",
        "def cadastrar_notas():\n",
        "  notas = []\n",
        "  print(\"=== Cadastro de Notas ===\")\n",
        "  while True:\n",
        "    try:\n",
        "      nota = float(input(\"Digite a nota do aluno (ou -1 para encerrar): \"))\n",
        "      if nota == -1:\n",
        "        break\n",
        "      elif 0 <= nota <= 10:\n",
        "        notas.append(nota)\n",
        "      else:\n",
        "        print (\"Digite uma nota válida (entre 0 e 10).\")\n",
        "    except ValueError:\n",
        "      print(\"Entrada inválida! Digite apenas números.\")\n",
        "  return notas\n",
        "\n",
        "  # Função para calcular a média\n",
        "def calcular_media(notas):\n",
        "  if len(notas) == 0:\n",
        "    return 0\n",
        "  return sum(notas) / len(notas)\n",
        "\n",
        "  # Função para verificar situação do aluno\n",
        "def verificar_situação(media):\n",
        "  if media >= 7:\n",
        "    return \"Aprovado!\"\n",
        "  else:\n",
        "    return \"Reprovado!\"\n",
        "  # Função para exibir relatório final\n",
        "def relatorio_final (notas, media, situacao):\n",
        "  print (\"\\n=== RELATÓRIO FINAL ===\")\n",
        "  print (f\"Notas inseridas: {notas}\")\n",
        "  print (f\"Média final: {media:.2f}\")\n",
        "  print (f\"Situação: {situacao}\")\n",
        "\n",
        " # Programa Principal\n",
        "notas = cadastrar_notas()\n",
        "media = calcular_media(notas)\n",
        "situacao = verificar_situação(media)\n",
        "relatorio_final(notas, media, situacao)"
      ]
    }
  ]
}